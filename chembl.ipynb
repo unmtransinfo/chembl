{
  "nbformat": 4,
  "nbformat_minor": 0,
  "metadata": {
    "colab": {
      "provenance": [],
      "authorship_tag": "ABX9TyNWCthhet5lSQjhjDepLxVd",
      "include_colab_link": true
    },
    "kernelspec": {
      "name": "python3",
      "display_name": "Python 3"
    },
    "language_info": {
      "name": "python"
    }
  },
  "cells": [
    {
      "cell_type": "markdown",
      "metadata": {
        "id": "view-in-github",
        "colab_type": "text"
      },
      "source": [
        "<a href=\"https://colab.research.google.com/github/unmtransinfo/chembl/blob/main/chembl.ipynb\" target=\"_parent\"><img src=\"https://colab.research.google.com/assets/colab-badge.svg\" alt=\"Open In Colab\"/></a>"
      ]
    },
    {
      "cell_type": "markdown",
      "source": [
        "Install and import required packages"
      ],
      "metadata": {
        "id": "HkPs-VCPGqj8"
      }
    },
    {
      "cell_type": "code",
      "execution_count": 4,
      "metadata": {
        "id": "LmOc6sg2GlKY"
      },
      "outputs": [],
      "source": [
        "!pip install -q chembl-downloader\n",
        "import chembl_downloader"
      ]
    },
    {
      "cell_type": "markdown",
      "source": [
        "Download last version of ChEMBL"
      ],
      "metadata": {
        "id": "jEqRykf7Lj_8"
      }
    },
    {
      "cell_type": "code",
      "source": [
        "path = chembl_downloader.download_extract_sqlite(version='31')"
      ],
      "metadata": {
        "id": "xj0y5vLZLkw6"
      },
      "execution_count": 5,
      "outputs": []
    },
    {
      "cell_type": "markdown",
      "source": [
        "Define SQL query"
      ],
      "metadata": {
        "id": "gWUG3yALOBY1"
      }
    },
    {
      "cell_type": "code",
      "source": [
        "sql = \"\"\"\n",
        "select\n",
        "  target_dictionary.*,\n",
        "  assays.*,\n",
        "  activities.*,\n",
        "  compound_structures.standard_inchi_key,\n",
        "  compound_structures.canonical_smiles,\n",
        "  molecule_dictionary.*,\n",
        "  docs.*\n",
        "from\n",
        "  target_dictionary\n",
        "  left join assays on target_dictionary.tid=assays.tid\n",
        "  left join docs on assays.doc_id=docs.doc_id\n",
        "  left join activities on assays.assay_id=activities.assay_id\n",
        "  left join molecule_dictionary on activities.molregno=molecule_dictionary.molregno\n",
        "  left join compound_structures on molecule_dictionary.molregno=compound_structures.molregno\n",
        "where \n",
        "  target_dictionary.organism like '%equine encephalitis virus'\n",
        "group by\n",
        "  target_dictionary.tid,\n",
        "  assays.assay_id,\n",
        "  activities.activity_id,\n",
        "  compound_structures.standard_inchi_key,\n",
        "  compound_structures.canonical_smiles,\n",
        "  molecule_dictionary.molregno,\n",
        "  docs.doc_id\n",
        "order by\n",
        "  docs.year,\n",
        "  docs.doi\n",
        "\"\"\""
      ],
      "metadata": {
        "id": "QWxdFL5MOCCG"
      },
      "execution_count": 14,
      "outputs": []
    },
    {
      "cell_type": "markdown",
      "source": [
        "Query database and save to file"
      ],
      "metadata": {
        "id": "GCl_FZfINRkE"
      }
    },
    {
      "cell_type": "code",
      "source": [
        "df = chembl_downloader.query(sql)\n",
        "df.to_csv(\"eev.tsv\", sep='\\t', index=False)"
      ],
      "metadata": {
        "id": "w05PBxb-NVls"
      },
      "execution_count": 15,
      "outputs": []
    }
  ]
}